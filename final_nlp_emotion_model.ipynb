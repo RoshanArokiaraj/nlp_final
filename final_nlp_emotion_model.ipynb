{
  "nbformat": 4,
  "nbformat_minor": 0,
  "metadata": {
    "colab": {
      "provenance": [],
      "machine_shape": "hm",
      "gpuType": "A100"
    },
    "kernelspec": {
      "name": "python3",
      "display_name": "Python 3"
    },
    "language_info": {
      "name": "python"
    },
    "accelerator": "GPU",
    "widgets": {
      "application/vnd.jupyter.widget-state+json": {
        "067e70dcd0f34934b803e5728cf47307": {
          "model_module": "@jupyter-widgets/controls",
          "model_name": "HBoxModel",
          "model_module_version": "1.5.0",
          "state": {
            "_dom_classes": [],
            "_model_module": "@jupyter-widgets/controls",
            "_model_module_version": "1.5.0",
            "_model_name": "HBoxModel",
            "_view_count": null,
            "_view_module": "@jupyter-widgets/controls",
            "_view_module_version": "1.5.0",
            "_view_name": "HBoxView",
            "box_style": "",
            "children": [
              "IPY_MODEL_4108db17030f43e5a73756a76a32cbce",
              "IPY_MODEL_72db68008499410fb28f1d3f6097cb0a",
              "IPY_MODEL_4e14ce4778d84d7e97c40d507f6d3be9"
            ],
            "layout": "IPY_MODEL_d3f393fd7a014f60a846a4ec5ab15727"
          }
        },
        "4108db17030f43e5a73756a76a32cbce": {
          "model_module": "@jupyter-widgets/controls",
          "model_name": "HTMLModel",
          "model_module_version": "1.5.0",
          "state": {
            "_dom_classes": [],
            "_model_module": "@jupyter-widgets/controls",
            "_model_module_version": "1.5.0",
            "_model_name": "HTMLModel",
            "_view_count": null,
            "_view_module": "@jupyter-widgets/controls",
            "_view_module_version": "1.5.0",
            "_view_name": "HTMLView",
            "description": "",
            "description_tooltip": null,
            "layout": "IPY_MODEL_9744ab69d6e1470fab20a643cb4756bb",
            "placeholder": "​",
            "style": "IPY_MODEL_3d3612837d5f491c90cd185d6ab39aae",
            "value": "Map: 100%"
          }
        },
        "72db68008499410fb28f1d3f6097cb0a": {
          "model_module": "@jupyter-widgets/controls",
          "model_name": "FloatProgressModel",
          "model_module_version": "1.5.0",
          "state": {
            "_dom_classes": [],
            "_model_module": "@jupyter-widgets/controls",
            "_model_module_version": "1.5.0",
            "_model_name": "FloatProgressModel",
            "_view_count": null,
            "_view_module": "@jupyter-widgets/controls",
            "_view_module_version": "1.5.0",
            "_view_name": "ProgressView",
            "bar_style": "success",
            "description": "",
            "description_tooltip": null,
            "layout": "IPY_MODEL_484fcaebe2bc4790bed5304f1209524a",
            "max": 5426,
            "min": 0,
            "orientation": "horizontal",
            "style": "IPY_MODEL_9c84a090081f4626a769fca68490ab2a",
            "value": 5426
          }
        },
        "4e14ce4778d84d7e97c40d507f6d3be9": {
          "model_module": "@jupyter-widgets/controls",
          "model_name": "HTMLModel",
          "model_module_version": "1.5.0",
          "state": {
            "_dom_classes": [],
            "_model_module": "@jupyter-widgets/controls",
            "_model_module_version": "1.5.0",
            "_model_name": "HTMLModel",
            "_view_count": null,
            "_view_module": "@jupyter-widgets/controls",
            "_view_module_version": "1.5.0",
            "_view_name": "HTMLView",
            "description": "",
            "description_tooltip": null,
            "layout": "IPY_MODEL_93a11fa5e80443cc8a22ee051a028dd2",
            "placeholder": "​",
            "style": "IPY_MODEL_d2f30bcb75e84ed093e99d87671a94a1",
            "value": " 5426/5426 [00:02&lt;00:00, 2747.75 examples/s]"
          }
        },
        "d3f393fd7a014f60a846a4ec5ab15727": {
          "model_module": "@jupyter-widgets/base",
          "model_name": "LayoutModel",
          "model_module_version": "1.2.0",
          "state": {
            "_model_module": "@jupyter-widgets/base",
            "_model_module_version": "1.2.0",
            "_model_name": "LayoutModel",
            "_view_count": null,
            "_view_module": "@jupyter-widgets/base",
            "_view_module_version": "1.2.0",
            "_view_name": "LayoutView",
            "align_content": null,
            "align_items": null,
            "align_self": null,
            "border": null,
            "bottom": null,
            "display": null,
            "flex": null,
            "flex_flow": null,
            "grid_area": null,
            "grid_auto_columns": null,
            "grid_auto_flow": null,
            "grid_auto_rows": null,
            "grid_column": null,
            "grid_gap": null,
            "grid_row": null,
            "grid_template_areas": null,
            "grid_template_columns": null,
            "grid_template_rows": null,
            "height": null,
            "justify_content": null,
            "justify_items": null,
            "left": null,
            "margin": null,
            "max_height": null,
            "max_width": null,
            "min_height": null,
            "min_width": null,
            "object_fit": null,
            "object_position": null,
            "order": null,
            "overflow": null,
            "overflow_x": null,
            "overflow_y": null,
            "padding": null,
            "right": null,
            "top": null,
            "visibility": null,
            "width": null
          }
        },
        "9744ab69d6e1470fab20a643cb4756bb": {
          "model_module": "@jupyter-widgets/base",
          "model_name": "LayoutModel",
          "model_module_version": "1.2.0",
          "state": {
            "_model_module": "@jupyter-widgets/base",
            "_model_module_version": "1.2.0",
            "_model_name": "LayoutModel",
            "_view_count": null,
            "_view_module": "@jupyter-widgets/base",
            "_view_module_version": "1.2.0",
            "_view_name": "LayoutView",
            "align_content": null,
            "align_items": null,
            "align_self": null,
            "border": null,
            "bottom": null,
            "display": null,
            "flex": null,
            "flex_flow": null,
            "grid_area": null,
            "grid_auto_columns": null,
            "grid_auto_flow": null,
            "grid_auto_rows": null,
            "grid_column": null,
            "grid_gap": null,
            "grid_row": null,
            "grid_template_areas": null,
            "grid_template_columns": null,
            "grid_template_rows": null,
            "height": null,
            "justify_content": null,
            "justify_items": null,
            "left": null,
            "margin": null,
            "max_height": null,
            "max_width": null,
            "min_height": null,
            "min_width": null,
            "object_fit": null,
            "object_position": null,
            "order": null,
            "overflow": null,
            "overflow_x": null,
            "overflow_y": null,
            "padding": null,
            "right": null,
            "top": null,
            "visibility": null,
            "width": null
          }
        },
        "3d3612837d5f491c90cd185d6ab39aae": {
          "model_module": "@jupyter-widgets/controls",
          "model_name": "DescriptionStyleModel",
          "model_module_version": "1.5.0",
          "state": {
            "_model_module": "@jupyter-widgets/controls",
            "_model_module_version": "1.5.0",
            "_model_name": "DescriptionStyleModel",
            "_view_count": null,
            "_view_module": "@jupyter-widgets/base",
            "_view_module_version": "1.2.0",
            "_view_name": "StyleView",
            "description_width": ""
          }
        },
        "484fcaebe2bc4790bed5304f1209524a": {
          "model_module": "@jupyter-widgets/base",
          "model_name": "LayoutModel",
          "model_module_version": "1.2.0",
          "state": {
            "_model_module": "@jupyter-widgets/base",
            "_model_module_version": "1.2.0",
            "_model_name": "LayoutModel",
            "_view_count": null,
            "_view_module": "@jupyter-widgets/base",
            "_view_module_version": "1.2.0",
            "_view_name": "LayoutView",
            "align_content": null,
            "align_items": null,
            "align_self": null,
            "border": null,
            "bottom": null,
            "display": null,
            "flex": null,
            "flex_flow": null,
            "grid_area": null,
            "grid_auto_columns": null,
            "grid_auto_flow": null,
            "grid_auto_rows": null,
            "grid_column": null,
            "grid_gap": null,
            "grid_row": null,
            "grid_template_areas": null,
            "grid_template_columns": null,
            "grid_template_rows": null,
            "height": null,
            "justify_content": null,
            "justify_items": null,
            "left": null,
            "margin": null,
            "max_height": null,
            "max_width": null,
            "min_height": null,
            "min_width": null,
            "object_fit": null,
            "object_position": null,
            "order": null,
            "overflow": null,
            "overflow_x": null,
            "overflow_y": null,
            "padding": null,
            "right": null,
            "top": null,
            "visibility": null,
            "width": null
          }
        },
        "9c84a090081f4626a769fca68490ab2a": {
          "model_module": "@jupyter-widgets/controls",
          "model_name": "ProgressStyleModel",
          "model_module_version": "1.5.0",
          "state": {
            "_model_module": "@jupyter-widgets/controls",
            "_model_module_version": "1.5.0",
            "_model_name": "ProgressStyleModel",
            "_view_count": null,
            "_view_module": "@jupyter-widgets/base",
            "_view_module_version": "1.2.0",
            "_view_name": "StyleView",
            "bar_color": null,
            "description_width": ""
          }
        },
        "93a11fa5e80443cc8a22ee051a028dd2": {
          "model_module": "@jupyter-widgets/base",
          "model_name": "LayoutModel",
          "model_module_version": "1.2.0",
          "state": {
            "_model_module": "@jupyter-widgets/base",
            "_model_module_version": "1.2.0",
            "_model_name": "LayoutModel",
            "_view_count": null,
            "_view_module": "@jupyter-widgets/base",
            "_view_module_version": "1.2.0",
            "_view_name": "LayoutView",
            "align_content": null,
            "align_items": null,
            "align_self": null,
            "border": null,
            "bottom": null,
            "display": null,
            "flex": null,
            "flex_flow": null,
            "grid_area": null,
            "grid_auto_columns": null,
            "grid_auto_flow": null,
            "grid_auto_rows": null,
            "grid_column": null,
            "grid_gap": null,
            "grid_row": null,
            "grid_template_areas": null,
            "grid_template_columns": null,
            "grid_template_rows": null,
            "height": null,
            "justify_content": null,
            "justify_items": null,
            "left": null,
            "margin": null,
            "max_height": null,
            "max_width": null,
            "min_height": null,
            "min_width": null,
            "object_fit": null,
            "object_position": null,
            "order": null,
            "overflow": null,
            "overflow_x": null,
            "overflow_y": null,
            "padding": null,
            "right": null,
            "top": null,
            "visibility": null,
            "width": null
          }
        },
        "d2f30bcb75e84ed093e99d87671a94a1": {
          "model_module": "@jupyter-widgets/controls",
          "model_name": "DescriptionStyleModel",
          "model_module_version": "1.5.0",
          "state": {
            "_model_module": "@jupyter-widgets/controls",
            "_model_module_version": "1.5.0",
            "_model_name": "DescriptionStyleModel",
            "_view_count": null,
            "_view_module": "@jupyter-widgets/base",
            "_view_module_version": "1.2.0",
            "_view_name": "StyleView",
            "description_width": ""
          }
        },
        "466c5e25e9bc44a9967667bee17b473a": {
          "model_module": "@jupyter-widgets/controls",
          "model_name": "HBoxModel",
          "model_module_version": "1.5.0",
          "state": {
            "_dom_classes": [],
            "_model_module": "@jupyter-widgets/controls",
            "_model_module_version": "1.5.0",
            "_model_name": "HBoxModel",
            "_view_count": null,
            "_view_module": "@jupyter-widgets/controls",
            "_view_module_version": "1.5.0",
            "_view_name": "HBoxView",
            "box_style": "",
            "children": [
              "IPY_MODEL_1cee61428a024cdfa8068106dde849df",
              "IPY_MODEL_7cfb6bf4d4674d869aa8987ab89064f3",
              "IPY_MODEL_2d44c49d698b4fbf8baffcc1e1e81fd5"
            ],
            "layout": "IPY_MODEL_1647f34cb9b147d4839d5d99a7304dc6"
          }
        },
        "1cee61428a024cdfa8068106dde849df": {
          "model_module": "@jupyter-widgets/controls",
          "model_name": "HTMLModel",
          "model_module_version": "1.5.0",
          "state": {
            "_dom_classes": [],
            "_model_module": "@jupyter-widgets/controls",
            "_model_module_version": "1.5.0",
            "_model_name": "HTMLModel",
            "_view_count": null,
            "_view_module": "@jupyter-widgets/controls",
            "_view_module_version": "1.5.0",
            "_view_name": "HTMLView",
            "description": "",
            "description_tooltip": null,
            "layout": "IPY_MODEL_3863b2dec97f460abeeca236ff04cace",
            "placeholder": "​",
            "style": "IPY_MODEL_1a73a3e934534cdb91ae2bb8a29c7e66",
            "value": "Casting the dataset: 100%"
          }
        },
        "7cfb6bf4d4674d869aa8987ab89064f3": {
          "model_module": "@jupyter-widgets/controls",
          "model_name": "FloatProgressModel",
          "model_module_version": "1.5.0",
          "state": {
            "_dom_classes": [],
            "_model_module": "@jupyter-widgets/controls",
            "_model_module_version": "1.5.0",
            "_model_name": "FloatProgressModel",
            "_view_count": null,
            "_view_module": "@jupyter-widgets/controls",
            "_view_module_version": "1.5.0",
            "_view_name": "ProgressView",
            "bar_style": "success",
            "description": "",
            "description_tooltip": null,
            "layout": "IPY_MODEL_243f59481da649fbaa7a8818e7625603",
            "max": 5426,
            "min": 0,
            "orientation": "horizontal",
            "style": "IPY_MODEL_5ac9c5000ad64715b4f89b5cbcc33cae",
            "value": 5426
          }
        },
        "2d44c49d698b4fbf8baffcc1e1e81fd5": {
          "model_module": "@jupyter-widgets/controls",
          "model_name": "HTMLModel",
          "model_module_version": "1.5.0",
          "state": {
            "_dom_classes": [],
            "_model_module": "@jupyter-widgets/controls",
            "_model_module_version": "1.5.0",
            "_model_name": "HTMLModel",
            "_view_count": null,
            "_view_module": "@jupyter-widgets/controls",
            "_view_module_version": "1.5.0",
            "_view_name": "HTMLView",
            "description": "",
            "description_tooltip": null,
            "layout": "IPY_MODEL_6e75e7559a8e4bb6bb66a373e0f652b0",
            "placeholder": "​",
            "style": "IPY_MODEL_7e01609e868148c4bf61489281c225af",
            "value": " 5426/5426 [00:00&lt;00:00, 172910.40 examples/s]"
          }
        },
        "1647f34cb9b147d4839d5d99a7304dc6": {
          "model_module": "@jupyter-widgets/base",
          "model_name": "LayoutModel",
          "model_module_version": "1.2.0",
          "state": {
            "_model_module": "@jupyter-widgets/base",
            "_model_module_version": "1.2.0",
            "_model_name": "LayoutModel",
            "_view_count": null,
            "_view_module": "@jupyter-widgets/base",
            "_view_module_version": "1.2.0",
            "_view_name": "LayoutView",
            "align_content": null,
            "align_items": null,
            "align_self": null,
            "border": null,
            "bottom": null,
            "display": null,
            "flex": null,
            "flex_flow": null,
            "grid_area": null,
            "grid_auto_columns": null,
            "grid_auto_flow": null,
            "grid_auto_rows": null,
            "grid_column": null,
            "grid_gap": null,
            "grid_row": null,
            "grid_template_areas": null,
            "grid_template_columns": null,
            "grid_template_rows": null,
            "height": null,
            "justify_content": null,
            "justify_items": null,
            "left": null,
            "margin": null,
            "max_height": null,
            "max_width": null,
            "min_height": null,
            "min_width": null,
            "object_fit": null,
            "object_position": null,
            "order": null,
            "overflow": null,
            "overflow_x": null,
            "overflow_y": null,
            "padding": null,
            "right": null,
            "top": null,
            "visibility": null,
            "width": null
          }
        },
        "3863b2dec97f460abeeca236ff04cace": {
          "model_module": "@jupyter-widgets/base",
          "model_name": "LayoutModel",
          "model_module_version": "1.2.0",
          "state": {
            "_model_module": "@jupyter-widgets/base",
            "_model_module_version": "1.2.0",
            "_model_name": "LayoutModel",
            "_view_count": null,
            "_view_module": "@jupyter-widgets/base",
            "_view_module_version": "1.2.0",
            "_view_name": "LayoutView",
            "align_content": null,
            "align_items": null,
            "align_self": null,
            "border": null,
            "bottom": null,
            "display": null,
            "flex": null,
            "flex_flow": null,
            "grid_area": null,
            "grid_auto_columns": null,
            "grid_auto_flow": null,
            "grid_auto_rows": null,
            "grid_column": null,
            "grid_gap": null,
            "grid_row": null,
            "grid_template_areas": null,
            "grid_template_columns": null,
            "grid_template_rows": null,
            "height": null,
            "justify_content": null,
            "justify_items": null,
            "left": null,
            "margin": null,
            "max_height": null,
            "max_width": null,
            "min_height": null,
            "min_width": null,
            "object_fit": null,
            "object_position": null,
            "order": null,
            "overflow": null,
            "overflow_x": null,
            "overflow_y": null,
            "padding": null,
            "right": null,
            "top": null,
            "visibility": null,
            "width": null
          }
        },
        "1a73a3e934534cdb91ae2bb8a29c7e66": {
          "model_module": "@jupyter-widgets/controls",
          "model_name": "DescriptionStyleModel",
          "model_module_version": "1.5.0",
          "state": {
            "_model_module": "@jupyter-widgets/controls",
            "_model_module_version": "1.5.0",
            "_model_name": "DescriptionStyleModel",
            "_view_count": null,
            "_view_module": "@jupyter-widgets/base",
            "_view_module_version": "1.2.0",
            "_view_name": "StyleView",
            "description_width": ""
          }
        },
        "243f59481da649fbaa7a8818e7625603": {
          "model_module": "@jupyter-widgets/base",
          "model_name": "LayoutModel",
          "model_module_version": "1.2.0",
          "state": {
            "_model_module": "@jupyter-widgets/base",
            "_model_module_version": "1.2.0",
            "_model_name": "LayoutModel",
            "_view_count": null,
            "_view_module": "@jupyter-widgets/base",
            "_view_module_version": "1.2.0",
            "_view_name": "LayoutView",
            "align_content": null,
            "align_items": null,
            "align_self": null,
            "border": null,
            "bottom": null,
            "display": null,
            "flex": null,
            "flex_flow": null,
            "grid_area": null,
            "grid_auto_columns": null,
            "grid_auto_flow": null,
            "grid_auto_rows": null,
            "grid_column": null,
            "grid_gap": null,
            "grid_row": null,
            "grid_template_areas": null,
            "grid_template_columns": null,
            "grid_template_rows": null,
            "height": null,
            "justify_content": null,
            "justify_items": null,
            "left": null,
            "margin": null,
            "max_height": null,
            "max_width": null,
            "min_height": null,
            "min_width": null,
            "object_fit": null,
            "object_position": null,
            "order": null,
            "overflow": null,
            "overflow_x": null,
            "overflow_y": null,
            "padding": null,
            "right": null,
            "top": null,
            "visibility": null,
            "width": null
          }
        },
        "5ac9c5000ad64715b4f89b5cbcc33cae": {
          "model_module": "@jupyter-widgets/controls",
          "model_name": "ProgressStyleModel",
          "model_module_version": "1.5.0",
          "state": {
            "_model_module": "@jupyter-widgets/controls",
            "_model_module_version": "1.5.0",
            "_model_name": "ProgressStyleModel",
            "_view_count": null,
            "_view_module": "@jupyter-widgets/base",
            "_view_module_version": "1.2.0",
            "_view_name": "StyleView",
            "bar_color": null,
            "description_width": ""
          }
        },
        "6e75e7559a8e4bb6bb66a373e0f652b0": {
          "model_module": "@jupyter-widgets/base",
          "model_name": "LayoutModel",
          "model_module_version": "1.2.0",
          "state": {
            "_model_module": "@jupyter-widgets/base",
            "_model_module_version": "1.2.0",
            "_model_name": "LayoutModel",
            "_view_count": null,
            "_view_module": "@jupyter-widgets/base",
            "_view_module_version": "1.2.0",
            "_view_name": "LayoutView",
            "align_content": null,
            "align_items": null,
            "align_self": null,
            "border": null,
            "bottom": null,
            "display": null,
            "flex": null,
            "flex_flow": null,
            "grid_area": null,
            "grid_auto_columns": null,
            "grid_auto_flow": null,
            "grid_auto_rows": null,
            "grid_column": null,
            "grid_gap": null,
            "grid_row": null,
            "grid_template_areas": null,
            "grid_template_columns": null,
            "grid_template_rows": null,
            "height": null,
            "justify_content": null,
            "justify_items": null,
            "left": null,
            "margin": null,
            "max_height": null,
            "max_width": null,
            "min_height": null,
            "min_width": null,
            "object_fit": null,
            "object_position": null,
            "order": null,
            "overflow": null,
            "overflow_x": null,
            "overflow_y": null,
            "padding": null,
            "right": null,
            "top": null,
            "visibility": null,
            "width": null
          }
        },
        "7e01609e868148c4bf61489281c225af": {
          "model_module": "@jupyter-widgets/controls",
          "model_name": "DescriptionStyleModel",
          "model_module_version": "1.5.0",
          "state": {
            "_model_module": "@jupyter-widgets/controls",
            "_model_module_version": "1.5.0",
            "_model_name": "DescriptionStyleModel",
            "_view_count": null,
            "_view_module": "@jupyter-widgets/base",
            "_view_module_version": "1.2.0",
            "_view_name": "StyleView",
            "description_width": ""
          }
        }
      }
    }
  },
  "cells": [
    {
      "cell_type": "markdown",
      "source": [
        "Install requirements and import dataset"
      ],
      "metadata": {
        "id": "x6v5Xu12TTwv"
      }
    },
    {
      "cell_type": "code",
      "execution_count": 8,
      "metadata": {
        "colab": {
          "base_uri": "https://localhost:8080/"
        },
        "id": "YQKiqHmhTNbF",
        "outputId": "2923c0e5-2d07-45bf-bf05-4e89c7b2a499"
      },
      "outputs": [
        {
          "output_type": "stream",
          "name": "stdout",
          "text": [
            "Requirement already satisfied: torch in /usr/local/lib/python3.11/dist-packages (2.6.0+cu124)\n",
            "Requirement already satisfied: transformers in /usr/local/lib/python3.11/dist-packages (4.51.3)\n",
            "Requirement already satisfied: datasets in /usr/local/lib/python3.11/dist-packages (3.5.1)\n",
            "Requirement already satisfied: scikit-learn in /usr/local/lib/python3.11/dist-packages (1.6.1)\n",
            "Requirement already satisfied: faiss-cpu in /usr/local/lib/python3.11/dist-packages (1.11.0)\n",
            "Requirement already satisfied: pandas in /usr/local/lib/python3.11/dist-packages (2.2.2)\n",
            "Requirement already satisfied: tqdm in /usr/local/lib/python3.11/dist-packages (4.67.1)\n",
            "Requirement already satisfied: filelock in /usr/local/lib/python3.11/dist-packages (from torch) (3.18.0)\n",
            "Requirement already satisfied: typing-extensions>=4.10.0 in /usr/local/lib/python3.11/dist-packages (from torch) (4.13.2)\n",
            "Requirement already satisfied: networkx in /usr/local/lib/python3.11/dist-packages (from torch) (3.4.2)\n",
            "Requirement already satisfied: jinja2 in /usr/local/lib/python3.11/dist-packages (from torch) (3.1.6)\n",
            "Requirement already satisfied: fsspec in /usr/local/lib/python3.11/dist-packages (from torch) (2025.3.0)\n",
            "Requirement already satisfied: nvidia-cuda-nvrtc-cu12==12.4.127 in /usr/local/lib/python3.11/dist-packages (from torch) (12.4.127)\n",
            "Requirement already satisfied: nvidia-cuda-runtime-cu12==12.4.127 in /usr/local/lib/python3.11/dist-packages (from torch) (12.4.127)\n",
            "Requirement already satisfied: nvidia-cuda-cupti-cu12==12.4.127 in /usr/local/lib/python3.11/dist-packages (from torch) (12.4.127)\n",
            "Requirement already satisfied: nvidia-cudnn-cu12==9.1.0.70 in /usr/local/lib/python3.11/dist-packages (from torch) (9.1.0.70)\n",
            "Requirement already satisfied: nvidia-cublas-cu12==12.4.5.8 in /usr/local/lib/python3.11/dist-packages (from torch) (12.4.5.8)\n",
            "Requirement already satisfied: nvidia-cufft-cu12==11.2.1.3 in /usr/local/lib/python3.11/dist-packages (from torch) (11.2.1.3)\n",
            "Requirement already satisfied: nvidia-curand-cu12==10.3.5.147 in /usr/local/lib/python3.11/dist-packages (from torch) (10.3.5.147)\n",
            "Requirement already satisfied: nvidia-cusolver-cu12==11.6.1.9 in /usr/local/lib/python3.11/dist-packages (from torch) (11.6.1.9)\n",
            "Requirement already satisfied: nvidia-cusparse-cu12==12.3.1.170 in /usr/local/lib/python3.11/dist-packages (from torch) (12.3.1.170)\n",
            "Requirement already satisfied: nvidia-cusparselt-cu12==0.6.2 in /usr/local/lib/python3.11/dist-packages (from torch) (0.6.2)\n",
            "Requirement already satisfied: nvidia-nccl-cu12==2.21.5 in /usr/local/lib/python3.11/dist-packages (from torch) (2.21.5)\n",
            "Requirement already satisfied: nvidia-nvtx-cu12==12.4.127 in /usr/local/lib/python3.11/dist-packages (from torch) (12.4.127)\n",
            "Requirement already satisfied: nvidia-nvjitlink-cu12==12.4.127 in /usr/local/lib/python3.11/dist-packages (from torch) (12.4.127)\n",
            "Requirement already satisfied: triton==3.2.0 in /usr/local/lib/python3.11/dist-packages (from torch) (3.2.0)\n",
            "Requirement already satisfied: sympy==1.13.1 in /usr/local/lib/python3.11/dist-packages (from torch) (1.13.1)\n",
            "Requirement already satisfied: mpmath<1.4,>=1.1.0 in /usr/local/lib/python3.11/dist-packages (from sympy==1.13.1->torch) (1.3.0)\n",
            "Requirement already satisfied: huggingface-hub<1.0,>=0.30.0 in /usr/local/lib/python3.11/dist-packages (from transformers) (0.30.2)\n",
            "Requirement already satisfied: numpy>=1.17 in /usr/local/lib/python3.11/dist-packages (from transformers) (2.0.2)\n",
            "Requirement already satisfied: packaging>=20.0 in /usr/local/lib/python3.11/dist-packages (from transformers) (24.2)\n",
            "Requirement already satisfied: pyyaml>=5.1 in /usr/local/lib/python3.11/dist-packages (from transformers) (6.0.2)\n",
            "Requirement already satisfied: regex!=2019.12.17 in /usr/local/lib/python3.11/dist-packages (from transformers) (2024.11.6)\n",
            "Requirement already satisfied: requests in /usr/local/lib/python3.11/dist-packages (from transformers) (2.32.3)\n",
            "Requirement already satisfied: tokenizers<0.22,>=0.21 in /usr/local/lib/python3.11/dist-packages (from transformers) (0.21.1)\n",
            "Requirement already satisfied: safetensors>=0.4.3 in /usr/local/lib/python3.11/dist-packages (from transformers) (0.5.3)\n",
            "Requirement already satisfied: pyarrow>=15.0.0 in /usr/local/lib/python3.11/dist-packages (from datasets) (18.1.0)\n",
            "Requirement already satisfied: dill<0.3.9,>=0.3.0 in /usr/local/lib/python3.11/dist-packages (from datasets) (0.3.8)\n",
            "Requirement already satisfied: xxhash in /usr/local/lib/python3.11/dist-packages (from datasets) (3.5.0)\n",
            "Requirement already satisfied: multiprocess<0.70.17 in /usr/local/lib/python3.11/dist-packages (from datasets) (0.70.16)\n",
            "Requirement already satisfied: aiohttp in /usr/local/lib/python3.11/dist-packages (from datasets) (3.11.15)\n",
            "Requirement already satisfied: scipy>=1.6.0 in /usr/local/lib/python3.11/dist-packages (from scikit-learn) (1.15.2)\n",
            "Requirement already satisfied: joblib>=1.2.0 in /usr/local/lib/python3.11/dist-packages (from scikit-learn) (1.4.2)\n",
            "Requirement already satisfied: threadpoolctl>=3.1.0 in /usr/local/lib/python3.11/dist-packages (from scikit-learn) (3.6.0)\n",
            "Requirement already satisfied: python-dateutil>=2.8.2 in /usr/local/lib/python3.11/dist-packages (from pandas) (2.9.0.post0)\n",
            "Requirement already satisfied: pytz>=2020.1 in /usr/local/lib/python3.11/dist-packages (from pandas) (2025.2)\n",
            "Requirement already satisfied: tzdata>=2022.7 in /usr/local/lib/python3.11/dist-packages (from pandas) (2025.2)\n",
            "Requirement already satisfied: aiohappyeyeballs>=2.3.0 in /usr/local/lib/python3.11/dist-packages (from aiohttp->datasets) (2.6.1)\n",
            "Requirement already satisfied: aiosignal>=1.1.2 in /usr/local/lib/python3.11/dist-packages (from aiohttp->datasets) (1.3.2)\n",
            "Requirement already satisfied: attrs>=17.3.0 in /usr/local/lib/python3.11/dist-packages (from aiohttp->datasets) (25.3.0)\n",
            "Requirement already satisfied: frozenlist>=1.1.1 in /usr/local/lib/python3.11/dist-packages (from aiohttp->datasets) (1.6.0)\n",
            "Requirement already satisfied: multidict<7.0,>=4.5 in /usr/local/lib/python3.11/dist-packages (from aiohttp->datasets) (6.4.3)\n",
            "Requirement already satisfied: propcache>=0.2.0 in /usr/local/lib/python3.11/dist-packages (from aiohttp->datasets) (0.3.1)\n",
            "Requirement already satisfied: yarl<2.0,>=1.17.0 in /usr/local/lib/python3.11/dist-packages (from aiohttp->datasets) (1.20.0)\n",
            "Requirement already satisfied: six>=1.5 in /usr/local/lib/python3.11/dist-packages (from python-dateutil>=2.8.2->pandas) (1.17.0)\n",
            "Requirement already satisfied: charset-normalizer<4,>=2 in /usr/local/lib/python3.11/dist-packages (from requests->transformers) (3.4.1)\n",
            "Requirement already satisfied: idna<4,>=2.5 in /usr/local/lib/python3.11/dist-packages (from requests->transformers) (3.10)\n",
            "Requirement already satisfied: urllib3<3,>=1.21.1 in /usr/local/lib/python3.11/dist-packages (from requests->transformers) (2.4.0)\n",
            "Requirement already satisfied: certifi>=2017.4.17 in /usr/local/lib/python3.11/dist-packages (from requests->transformers) (2025.1.31)\n",
            "Requirement already satisfied: MarkupSafe>=2.0 in /usr/local/lib/python3.11/dist-packages (from jinja2->torch) (3.0.2)\n"
          ]
        }
      ],
      "source": [
        "pip install torch transformers datasets scikit-learn faiss-cpu pandas tqdm"
      ]
    },
    {
      "cell_type": "code",
      "source": [
        "from datasets import load_dataset\n",
        "\n",
        "dataset = load_dataset(\"go_emotions\")\n",
        "print(dataset[\"train\"][0])\n"
      ],
      "metadata": {
        "colab": {
          "base_uri": "https://localhost:8080/"
        },
        "id": "1CHCy1ydTTaW",
        "outputId": "f094b13a-c2f7-4ad2-e972-248a8dd4e882"
      },
      "execution_count": 9,
      "outputs": [
        {
          "output_type": "stream",
          "name": "stdout",
          "text": [
            "{'text': \"My favourite food is anything I didn't have to cook myself.\", 'labels': [27], 'id': 'eebbqej'}\n"
          ]
        }
      ]
    },
    {
      "cell_type": "code",
      "source": [
        "from transformers import AutoTokenizer\n",
        "from datasets import Sequence, Value\n",
        "\n",
        "tokenizer = AutoTokenizer.from_pretrained(\"distilbert-base-uncased\")\n",
        "label_names = dataset['train'].features['labels'].feature.names\n",
        "\n",
        "num_labels = len(label_names)\n",
        "\n",
        "\n",
        "\n",
        "def tokenize_and_format(example):\n",
        "    tokens = tokenizer(example[\"text\"], truncation=True, padding=\"max_length\", max_length=128)\n",
        "\n",
        "    label_vec = [0.0] * num_labels\n",
        "    for idx in example[\"labels\"]:\n",
        "          label_vec[idx] = 1.0\n",
        "\n",
        "    tokens[\"labels\"] = list(map(float, label_vec))\n",
        "    return tokens\n",
        "\n",
        "\n",
        "encoded_dataset = dataset.map(tokenize_and_format, batched=False)\n",
        "\n",
        "\n",
        "encoded_dataset = encoded_dataset.cast_column(\"labels\", Sequence(Value(\"float32\")))\n",
        "\n",
        "\n",
        "print(encoded_dataset[\"train\"][0][\"labels\"])\n",
        "print(type(encoded_dataset[\"train\"][0][\"labels\"][0]))\n"
      ],
      "metadata": {
        "colab": {
          "base_uri": "https://localhost:8080/",
          "height": 116,
          "referenced_widgets": [
            "067e70dcd0f34934b803e5728cf47307",
            "4108db17030f43e5a73756a76a32cbce",
            "72db68008499410fb28f1d3f6097cb0a",
            "4e14ce4778d84d7e97c40d507f6d3be9",
            "d3f393fd7a014f60a846a4ec5ab15727",
            "9744ab69d6e1470fab20a643cb4756bb",
            "3d3612837d5f491c90cd185d6ab39aae",
            "484fcaebe2bc4790bed5304f1209524a",
            "9c84a090081f4626a769fca68490ab2a",
            "93a11fa5e80443cc8a22ee051a028dd2",
            "d2f30bcb75e84ed093e99d87671a94a1",
            "466c5e25e9bc44a9967667bee17b473a",
            "1cee61428a024cdfa8068106dde849df",
            "7cfb6bf4d4674d869aa8987ab89064f3",
            "2d44c49d698b4fbf8baffcc1e1e81fd5",
            "1647f34cb9b147d4839d5d99a7304dc6",
            "3863b2dec97f460abeeca236ff04cace",
            "1a73a3e934534cdb91ae2bb8a29c7e66",
            "243f59481da649fbaa7a8818e7625603",
            "5ac9c5000ad64715b4f89b5cbcc33cae",
            "6e75e7559a8e4bb6bb66a373e0f652b0",
            "7e01609e868148c4bf61489281c225af"
          ]
        },
        "id": "eEIDF6cuUM1U",
        "outputId": "bde058ad-8d3e-4aeb-839f-e9db602edc63"
      },
      "execution_count": 10,
      "outputs": [
        {
          "output_type": "display_data",
          "data": {
            "text/plain": [
              "Map:   0%|          | 0/5426 [00:00<?, ? examples/s]"
            ],
            "application/vnd.jupyter.widget-view+json": {
              "version_major": 2,
              "version_minor": 0,
              "model_id": "067e70dcd0f34934b803e5728cf47307"
            }
          },
          "metadata": {}
        },
        {
          "output_type": "display_data",
          "data": {
            "text/plain": [
              "Casting the dataset:   0%|          | 0/5426 [00:00<?, ? examples/s]"
            ],
            "application/vnd.jupyter.widget-view+json": {
              "version_major": 2,
              "version_minor": 0,
              "model_id": "466c5e25e9bc44a9967667bee17b473a"
            }
          },
          "metadata": {}
        },
        {
          "output_type": "stream",
          "name": "stdout",
          "text": [
            "[0.0, 0.0, 0.0, 0.0, 0.0, 0.0, 0.0, 0.0, 0.0, 0.0, 0.0, 0.0, 0.0, 0.0, 0.0, 0.0, 0.0, 0.0, 0.0, 0.0, 0.0, 0.0, 0.0, 0.0, 0.0, 0.0, 0.0, 1.0]\n",
            "<class 'float'>\n"
          ]
        }
      ]
    },
    {
      "cell_type": "markdown",
      "source": [
        "Finetuning distill bert"
      ],
      "metadata": {
        "id": "yXdWBcK5UVQI"
      }
    },
    {
      "cell_type": "code",
      "source": [
        "from sklearn.metrics import f1_score, precision_score, recall_score\n",
        "import numpy as np\n",
        "import torch\n",
        "\n",
        "def compute_metrics(pred):\n",
        "    logits, labels = pred\n",
        "    probs = torch.sigmoid(torch.tensor(logits)).numpy()\n",
        "    preds = (probs >= 0.5).astype(int)\n",
        "\n",
        "    return {\n",
        "        \"micro/f1\": f1_score(labels, preds, average=\"micro\", zero_division=0),\n",
        "        \"macro/f1\": f1_score(labels, preds, average=\"macro\", zero_division=0),\n",
        "        \"micro/precision\": precision_score(labels, preds, average=\"micro\", zero_division=0),\n",
        "        \"micro/recall\": recall_score(labels, preds, average=\"micro\", zero_division=0),\n",
        "    }\n"
      ],
      "metadata": {
        "id": "9rTf3pf0UlHe"
      },
      "execution_count": 11,
      "outputs": []
    },
    {
      "cell_type": "code",
      "source": [
        "import torch\n",
        "from transformers import AutoModelForSequenceClassification, TrainingArguments, Trainer\n",
        "\n",
        "model_name = \"bert-base-uncased\"\n",
        "\n",
        "tokenizer = AutoTokenizer.from_pretrained(model_name)\n",
        "model = AutoModelForSequenceClassification.from_pretrained(\n",
        "    model_name,\n",
        "    num_labels=num_labels,\n",
        "    problem_type=\"multi_label_classification\"\n",
        ")\n",
        "\n",
        "\n",
        "\n",
        "training_args = TrainingArguments(\n",
        "    output_dir=\"./results\",\n",
        "    eval_strategy=\"epoch\",\n",
        "    save_strategy=\"epoch\",\n",
        "    per_device_train_batch_size=16,\n",
        "    per_device_eval_batch_size=64,\n",
        "    num_train_epochs=8,\n",
        ")\n",
        "\n",
        "\n",
        "trainer = Trainer(\n",
        "    model=model,\n",
        "    args=training_args,\n",
        "    train_dataset=encoded_dataset[\"train\"],\n",
        "    eval_dataset=encoded_dataset[\"validation\"],\n",
        "    tokenizer=tokenizer,\n",
        "    compute_metrics=compute_metrics\n",
        ")\n",
        "\n",
        "trainer.train()\n",
        "\n"
      ],
      "metadata": {
        "colab": {
          "base_uri": "https://localhost:8080/",
          "height": 711
        },
        "id": "ecjTyPCLT3GO",
        "outputId": "f8871d49-d79f-40a9-cb72-17dcf1b64507"
      },
      "execution_count": 13,
      "outputs": [
        {
          "output_type": "stream",
          "name": "stderr",
          "text": [
            "Some weights of BertForSequenceClassification were not initialized from the model checkpoint at bert-base-uncased and are newly initialized: ['classifier.bias', 'classifier.weight']\n",
            "You should probably TRAIN this model on a down-stream task to be able to use it for predictions and inference.\n",
            "<ipython-input-13-7077a3178e50>:25: FutureWarning: `tokenizer` is deprecated and will be removed in version 5.0.0 for `Trainer.__init__`. Use `processing_class` instead.\n",
            "  trainer = Trainer(\n",
            "\u001b[34m\u001b[1mwandb\u001b[0m: \u001b[33mWARNING\u001b[0m The `run_name` is currently set to the same value as `TrainingArguments.output_dir`. If this was not intended, please specify a different run name by setting the `TrainingArguments.run_name` parameter.\n"
          ]
        },
        {
          "output_type": "display_data",
          "data": {
            "text/plain": [
              "<IPython.core.display.Javascript object>"
            ],
            "application/javascript": [
              "\n",
              "        window._wandbApiKey = new Promise((resolve, reject) => {\n",
              "            function loadScript(url) {\n",
              "            return new Promise(function(resolve, reject) {\n",
              "                let newScript = document.createElement(\"script\");\n",
              "                newScript.onerror = reject;\n",
              "                newScript.onload = resolve;\n",
              "                document.body.appendChild(newScript);\n",
              "                newScript.src = url;\n",
              "            });\n",
              "            }\n",
              "            loadScript(\"https://cdn.jsdelivr.net/npm/postmate/build/postmate.min.js\").then(() => {\n",
              "            const iframe = document.createElement('iframe')\n",
              "            iframe.style.cssText = \"width:0;height:0;border:none\"\n",
              "            document.body.appendChild(iframe)\n",
              "            const handshake = new Postmate({\n",
              "                container: iframe,\n",
              "                url: 'https://wandb.ai/authorize'\n",
              "            });\n",
              "            const timeout = setTimeout(() => reject(\"Couldn't auto authenticate\"), 5000)\n",
              "            handshake.then(function(child) {\n",
              "                child.on('authorize', data => {\n",
              "                    clearTimeout(timeout)\n",
              "                    resolve(data)\n",
              "                });\n",
              "            });\n",
              "            })\n",
              "        });\n",
              "    "
            ]
          },
          "metadata": {}
        },
        {
          "output_type": "stream",
          "name": "stderr",
          "text": [
            "\u001b[34m\u001b[1mwandb\u001b[0m: Logging into wandb.ai. (Learn how to deploy a W&B server locally: https://wandb.me/wandb-server)\n",
            "\u001b[34m\u001b[1mwandb\u001b[0m: You can find your API key in your browser here: https://wandb.ai/authorize?ref=models\n",
            "wandb: Paste an API key from your profile and hit enter:"
          ]
        },
        {
          "name": "stdout",
          "output_type": "stream",
          "text": [
            " ··········\n"
          ]
        },
        {
          "output_type": "stream",
          "name": "stderr",
          "text": [
            "\u001b[34m\u001b[1mwandb\u001b[0m: \u001b[33mWARNING\u001b[0m If you're specifying your api key in code, ensure this code is not shared publicly.\n",
            "\u001b[34m\u001b[1mwandb\u001b[0m: \u001b[33mWARNING\u001b[0m Consider setting the WANDB_API_KEY environment variable, or running `wandb login` from the command line.\n",
            "\u001b[34m\u001b[1mwandb\u001b[0m: No netrc file found, creating one.\n",
            "\u001b[34m\u001b[1mwandb\u001b[0m: Appending key for api.wandb.ai to your netrc file: /root/.netrc\n",
            "\u001b[34m\u001b[1mwandb\u001b[0m: Currently logged in as: \u001b[33marokiaraj-roshan\u001b[0m (\u001b[33marokiaraj-roshan-georgia-institute-of-technology\u001b[0m) to \u001b[32mhttps://api.wandb.ai\u001b[0m. Use \u001b[1m`wandb login --relogin`\u001b[0m to force relogin\n"
          ]
        },
        {
          "output_type": "display_data",
          "data": {
            "text/plain": [
              "<IPython.core.display.HTML object>"
            ],
            "text/html": [
              "Tracking run with wandb version 0.19.10"
            ]
          },
          "metadata": {}
        },
        {
          "output_type": "display_data",
          "data": {
            "text/plain": [
              "<IPython.core.display.HTML object>"
            ],
            "text/html": [
              "Run data is saved locally in <code>/content/wandb/run-20250430_183046-tqculbmt</code>"
            ]
          },
          "metadata": {}
        },
        {
          "output_type": "display_data",
          "data": {
            "text/plain": [
              "<IPython.core.display.HTML object>"
            ],
            "text/html": [
              "Syncing run <strong><a href='https://wandb.ai/arokiaraj-roshan-georgia-institute-of-technology/huggingface/runs/tqculbmt' target=\"_blank\">./results</a></strong> to <a href='https://wandb.ai/arokiaraj-roshan-georgia-institute-of-technology/huggingface' target=\"_blank\">Weights & Biases</a> (<a href='https://wandb.me/developer-guide' target=\"_blank\">docs</a>)<br>"
            ]
          },
          "metadata": {}
        },
        {
          "output_type": "display_data",
          "data": {
            "text/plain": [
              "<IPython.core.display.HTML object>"
            ],
            "text/html": [
              " View project at <a href='https://wandb.ai/arokiaraj-roshan-georgia-institute-of-technology/huggingface' target=\"_blank\">https://wandb.ai/arokiaraj-roshan-georgia-institute-of-technology/huggingface</a>"
            ]
          },
          "metadata": {}
        },
        {
          "output_type": "display_data",
          "data": {
            "text/plain": [
              "<IPython.core.display.HTML object>"
            ],
            "text/html": [
              " View run at <a href='https://wandb.ai/arokiaraj-roshan-georgia-institute-of-technology/huggingface/runs/tqculbmt' target=\"_blank\">https://wandb.ai/arokiaraj-roshan-georgia-institute-of-technology/huggingface/runs/tqculbmt</a>"
            ]
          },
          "metadata": {}
        },
        {
          "output_type": "display_data",
          "data": {
            "text/plain": [
              "<IPython.core.display.HTML object>"
            ],
            "text/html": [
              "\n",
              "    <div>\n",
              "      \n",
              "      <progress value='21712' max='21712' style='width:300px; height:20px; vertical-align: middle;'></progress>\n",
              "      [21712/21712 33:25, Epoch 8/8]\n",
              "    </div>\n",
              "    <table border=\"1\" class=\"dataframe\">\n",
              "  <thead>\n",
              " <tr style=\"text-align: left;\">\n",
              "      <th>Epoch</th>\n",
              "      <th>Training Loss</th>\n",
              "      <th>Validation Loss</th>\n",
              "      <th>Micro/f1</th>\n",
              "      <th>Macro/f1</th>\n",
              "      <th>Micro/precision</th>\n",
              "      <th>Micro/recall</th>\n",
              "    </tr>\n",
              "  </thead>\n",
              "  <tbody>\n",
              "    <tr>\n",
              "      <td>1</td>\n",
              "      <td>0.092900</td>\n",
              "      <td>0.088111</td>\n",
              "      <td>0.553776</td>\n",
              "      <td>0.360789</td>\n",
              "      <td>0.700216</td>\n",
              "      <td>0.457994</td>\n",
              "    </tr>\n",
              "    <tr>\n",
              "      <td>2</td>\n",
              "      <td>0.078000</td>\n",
              "      <td>0.083566</td>\n",
              "      <td>0.579175</td>\n",
              "      <td>0.430772</td>\n",
              "      <td>0.700067</td>\n",
              "      <td>0.493887</td>\n",
              "    </tr>\n",
              "    <tr>\n",
              "      <td>3</td>\n",
              "      <td>0.060500</td>\n",
              "      <td>0.087789</td>\n",
              "      <td>0.572421</td>\n",
              "      <td>0.453385</td>\n",
              "      <td>0.662477</td>\n",
              "      <td>0.503918</td>\n",
              "    </tr>\n",
              "    <tr>\n",
              "      <td>4</td>\n",
              "      <td>0.047500</td>\n",
              "      <td>0.098557</td>\n",
              "      <td>0.561761</td>\n",
              "      <td>0.468812</td>\n",
              "      <td>0.619380</td>\n",
              "      <td>0.513950</td>\n",
              "    </tr>\n",
              "    <tr>\n",
              "      <td>5</td>\n",
              "      <td>0.032900</td>\n",
              "      <td>0.110791</td>\n",
              "      <td>0.562136</td>\n",
              "      <td>0.477443</td>\n",
              "      <td>0.588811</td>\n",
              "      <td>0.537774</td>\n",
              "    </tr>\n",
              "    <tr>\n",
              "      <td>6</td>\n",
              "      <td>0.022400</td>\n",
              "      <td>0.120749</td>\n",
              "      <td>0.569742</td>\n",
              "      <td>0.470208</td>\n",
              "      <td>0.588442</td>\n",
              "      <td>0.552194</td>\n",
              "    </tr>\n",
              "    <tr>\n",
              "      <td>7</td>\n",
              "      <td>0.016700</td>\n",
              "      <td>0.128503</td>\n",
              "      <td>0.566690</td>\n",
              "      <td>0.486516</td>\n",
              "      <td>0.571065</td>\n",
              "      <td>0.562382</td>\n",
              "    </tr>\n",
              "    <tr>\n",
              "      <td>8</td>\n",
              "      <td>0.012400</td>\n",
              "      <td>0.132278</td>\n",
              "      <td>0.568555</td>\n",
              "      <td>0.482455</td>\n",
              "      <td>0.570033</td>\n",
              "      <td>0.567085</td>\n",
              "    </tr>\n",
              "  </tbody>\n",
              "</table><p>"
            ]
          },
          "metadata": {}
        },
        {
          "output_type": "execute_result",
          "data": {
            "text/plain": [
              "TrainOutput(global_step=21712, training_loss=0.04839738338153505, metrics={'train_runtime': 2215.4209, 'train_samples_per_second': 156.756, 'train_steps_per_second': 9.8, 'total_flos': 2.284863444688896e+16, 'train_loss': 0.04839738338153505, 'epoch': 8.0})"
            ]
          },
          "metadata": {},
          "execution_count": 13
        }
      ]
    },
    {
      "cell_type": "markdown",
      "source": [
        "Validate"
      ],
      "metadata": {
        "id": "HO_ybBerUY7D"
      }
    },
    {
      "cell_type": "code",
      "source": [
        "from sklearn.metrics import classification_report\n",
        "import torch\n",
        "import numpy as np\n",
        "\n",
        "def evaluate_on_dataset(trainer, dataset, label_names, threshold=0.5):\n",
        "    preds_output = trainer.predict(dataset)\n",
        "    probs = torch.sigmoid(torch.tensor(preds_output.predictions)).numpy()\n",
        "    preds = (probs >= threshold).astype(int)\n",
        "    labels = preds_output.label_ids\n",
        "\n",
        "    print(\"Classification Report:\")\n",
        "    print(classification_report(labels, preds, target_names=label_names, zero_division=0))\n",
        "\n",
        "evaluate_on_dataset(trainer, encoded_dataset[\"validation\"], label_names, threshold=0.3)\n"
      ],
      "metadata": {
        "colab": {
          "base_uri": "https://localhost:8080/",
          "height": 659
        },
        "id": "b5Mvph1cUZdY",
        "outputId": "c61f89f5-fa8b-4c9d-9e13-c52b7ba6d467"
      },
      "execution_count": 14,
      "outputs": [
        {
          "output_type": "display_data",
          "data": {
            "text/plain": [
              "<IPython.core.display.HTML object>"
            ],
            "text/html": []
          },
          "metadata": {}
        },
        {
          "output_type": "stream",
          "name": "stdout",
          "text": [
            "Classification Report:\n",
            "                precision    recall  f1-score   support\n",
            "\n",
            "    admiration       0.66      0.78      0.72       488\n",
            "     amusement       0.70      0.86      0.77       303\n",
            "         anger       0.48      0.50      0.49       195\n",
            "     annoyance       0.30      0.45      0.36       303\n",
            "      approval       0.33      0.37      0.35       397\n",
            "        caring       0.42      0.52      0.46       153\n",
            "     confusion       0.36      0.43      0.39       152\n",
            "     curiosity       0.44      0.62      0.51       248\n",
            "        desire       0.42      0.51      0.46        77\n",
            "disappointment       0.32      0.36      0.34       163\n",
            "   disapproval       0.38      0.40      0.39       292\n",
            "       disgust       0.41      0.52      0.45        97\n",
            " embarrassment       0.44      0.49      0.46        35\n",
            "    excitement       0.28      0.30      0.29        96\n",
            "          fear       0.69      0.59      0.63        90\n",
            "     gratitude       0.88      0.91      0.89       358\n",
            "         grief       0.00      0.00      0.00        13\n",
            "           joy       0.50      0.58      0.54       172\n",
            "          love       0.70      0.88      0.78       252\n",
            "   nervousness       0.42      0.48      0.44        21\n",
            "      optimism       0.49      0.60      0.54       209\n",
            "         pride       0.86      0.40      0.55        15\n",
            "   realization       0.18      0.30      0.22       127\n",
            "        relief       0.29      0.22      0.25        18\n",
            "       remorse       0.68      0.69      0.69        68\n",
            "       sadness       0.48      0.62      0.54       143\n",
            "      surprise       0.50      0.61      0.55       129\n",
            "       neutral       0.63      0.66      0.64      1766\n",
            "\n",
            "     micro avg       0.53      0.61      0.57      6380\n",
            "     macro avg       0.47      0.52      0.49      6380\n",
            "  weighted avg       0.54      0.61      0.57      6380\n",
            "   samples avg       0.57      0.63      0.58      6380\n",
            "\n"
          ]
        }
      ]
    },
    {
      "cell_type": "code",
      "source": [
        "  import torch\n",
        "\n",
        "  def predict_emotions(trainer, text, tokenizer, label_names, threshold=0.3):\n",
        "      inputs = tokenizer(text, return_tensors=\"pt\", truncation=True, padding=True)\n",
        "\n",
        "      device = trainer.model.device\n",
        "      inputs = {key: value.to(device) for key, value in inputs.items()}\n",
        "      with torch.no_grad():\n",
        "          logits = trainer.model(**inputs).logits\n",
        "      probs = torch.sigmoid(logits).squeeze().cpu().numpy()\n",
        "      preds = (probs >= threshold).astype(int)\n",
        "      print(f\"Text: {text}\")\n",
        "      print(\"Label Predictions:\")\n",
        "      for label_name, probability, pred in zip(label_names, probs, preds):\n",
        "          print(f\"  • {label_name}: probability={probability:.3f}, predicted={pred}\")\n",
        "\n",
        "      return probs, preds\n",
        "\n",
        "\n",
        "  input_txt = \"She broke up with me.\"\n",
        "  probs, preds = predict_emotions(trainer, input_txt, tokenizer, label_names)\n",
        "  print(probs)\n",
        "  print(preds)"
      ],
      "metadata": {
        "colab": {
          "base_uri": "https://localhost:8080/"
        },
        "id": "iJ3c_LhNvy-e",
        "outputId": "31dbbb66-3579-4bf2-cc5a-373d6d79d580"
      },
      "execution_count": 15,
      "outputs": [
        {
          "output_type": "stream",
          "name": "stdout",
          "text": [
            "Text: She broke up with me.\n",
            "Label Predictions:\n",
            "  • admiration: probability=0.000, predicted=0\n",
            "  • amusement: probability=0.003, predicted=0\n",
            "  • anger: probability=0.010, predicted=0\n",
            "  • annoyance: probability=0.002, predicted=0\n",
            "  • approval: probability=0.003, predicted=0\n",
            "  • caring: probability=0.001, predicted=0\n",
            "  • confusion: probability=0.000, predicted=0\n",
            "  • curiosity: probability=0.000, predicted=0\n",
            "  • desire: probability=0.001, predicted=0\n",
            "  • disappointment: probability=0.002, predicted=0\n",
            "  • disapproval: probability=0.001, predicted=0\n",
            "  • disgust: probability=0.001, predicted=0\n",
            "  • embarrassment: probability=0.000, predicted=0\n",
            "  • excitement: probability=0.000, predicted=0\n",
            "  • fear: probability=0.001, predicted=0\n",
            "  • gratitude: probability=0.000, predicted=0\n",
            "  • grief: probability=0.054, predicted=0\n",
            "  • joy: probability=0.002, predicted=0\n",
            "  • love: probability=0.002, predicted=0\n",
            "  • nervousness: probability=0.001, predicted=0\n",
            "  • optimism: probability=0.001, predicted=0\n",
            "  • pride: probability=0.000, predicted=0\n",
            "  • realization: probability=0.003, predicted=0\n",
            "  • relief: probability=0.000, predicted=0\n",
            "  • remorse: probability=0.003, predicted=0\n",
            "  • sadness: probability=0.889, predicted=1\n",
            "  • surprise: probability=0.000, predicted=0\n",
            "  • neutral: probability=0.795, predicted=1\n",
            "[4.9086445e-04 2.9669038e-03 9.6181566e-03 1.9212801e-03 3.4677694e-03\n",
            " 1.2948606e-03 2.7489016e-04 4.9873622e-04 5.3174177e-04 2.4235316e-03\n",
            " 7.9093216e-04 1.3576392e-03 1.8749450e-04 1.4297968e-04 1.0773311e-03\n",
            " 1.0259018e-04 5.3980537e-02 1.5133101e-03 1.9123746e-03 6.2829762e-04\n",
            " 6.8747305e-04 1.6491362e-04 3.0365733e-03 4.0557227e-04 2.7964993e-03\n",
            " 8.8931853e-01 4.0038145e-04 7.9472810e-01]\n",
            "[0 0 0 0 0 0 0 0 0 0 0 0 0 0 0 0 0 0 0 0 0 0 0 0 0 1 0 1]\n"
          ]
        }
      ]
    },
    {
      "cell_type": "code",
      "source": [
        "trainer.save_model(\"./my_saved_model\")\n"
      ],
      "metadata": {
        "id": "l-gD4oWGv7T0"
      },
      "execution_count": 16,
      "outputs": []
    },
    {
      "cell_type": "code",
      "source": [
        "from transformers import AutoTokenizer, AutoModelForSequenceClassification, pipeline\n",
        "\n",
        "# Load fine-tuned model\n",
        "model_path = \"./my_saved_model\"\n",
        "tokenizer = AutoTokenizer.from_pretrained(model_path)\n",
        "model = AutoModelForSequenceClassification.from_pretrained(model_path)\n",
        "\n",
        "# Emotion classification pipeline\n",
        "emotion_pipeline = pipeline(\"text-classification\", model=model, tokenizer=tokenizer, return_all_scores=True)\n"
      ],
      "metadata": {
        "colab": {
          "base_uri": "https://localhost:8080/"
        },
        "id": "edGTQ_X8ND3j",
        "outputId": "2bc2da36-80a1-4566-8d71-262061974ef2"
      },
      "execution_count": 50,
      "outputs": [
        {
          "output_type": "stream",
          "name": "stderr",
          "text": [
            "Device set to use cuda:0\n",
            "/usr/local/lib/python3.11/dist-packages/transformers/pipelines/text_classification.py:106: UserWarning: `return_all_scores` is now deprecated,  if want a similar functionality use `top_k=None` instead of `return_all_scores=True` or `top_k=1` instead of `return_all_scores=False`.\n",
            "  warnings.warn(\n"
          ]
        }
      ]
    },
    {
      "cell_type": "code",
      "source": [
        "import pandas as pd\n",
        "import numpy as np\n",
        "import faiss\n",
        "import json\n",
        "from tqdm import tqdm\n",
        "from sklearn.preprocessing import normalize\n",
        "\n",
        "df = pd.read_csv(\"spotify_millsongdata.csv\")\n",
        "\n",
        "def get_emotion_vector(lyrics):\n",
        "    try:\n",
        "        result = emotion_pipeline(lyrics[:512])\n",
        "        return [s['score'] for s in result[0]]\n",
        "    except:\n",
        "        return [0.0] * model.config.num_labels\n",
        "\n",
        "tqdm.pandas()\n",
        "df['emotion_vector'] = df['text'].progress_apply(get_emotion_vector)\n",
        "df['emotion_vector'] = df['emotion_vector'].apply(lambda x: normalize([x])[0])\n",
        "emotion_matrix = np.vstack(df['emotion_vector'].values).astype('float32')\n",
        "index = faiss.IndexFlatL2(emotion_matrix.shape[1])\n",
        "index.add(emotion_matrix)\n",
        "metadata = df[['artist', 'song', 'link']].to_dict('records')\n",
        "faiss.write_index(index, \"emotion_index.faiss\")\n",
        "with open(\"emotion_metadata.jsonl\", \"w\") as f:\n",
        "    for record in metadata:\n",
        "        f.write(json.dumps(record) + \"\\n\")"
      ],
      "metadata": {
        "id": "U3Wsle8c6w9Z",
        "colab": {
          "base_uri": "https://localhost:8080/"
        },
        "outputId": "15aa9d32-72b8-4a1e-8fea-3dc6c312630e"
      },
      "execution_count": 51,
      "outputs": [
        {
          "output_type": "stream",
          "name": "stderr",
          "text": [
            "100%|██████████| 57650/57650 [08:45<00:00, 109.76it/s]\n"
          ]
        }
      ]
    },
    {
      "cell_type": "code",
      "source": [
        "index = faiss.read_index(\"emotion_index.faiss\")\n",
        "with open(\"emotion_metadata.jsonl\", \"r\") as f:\n",
        "    metadata = [json.loads(line) for line in f]\n",
        "\n",
        "def get_user_emotion_vector(text):\n",
        "    result = emotion_pipeline(text[:512])\n",
        "    vec = np.array([s['score'] for s in result[0]], dtype=np.float32)\n",
        "    return normalize([vec])[0]\n",
        "\n",
        "def recommend_songs_from_emotion(input_text, k):\n",
        "    user_vec = get_user_emotion_vector(input_text)\n",
        "    D, I = index.search(np.array([user_vec], dtype='float32'), k)\n",
        "    return [metadata[i] for i in I[0]]"
      ],
      "metadata": {
        "id": "gdMubOcA62j8"
      },
      "execution_count": 52,
      "outputs": []
    },
    {
      "cell_type": "code",
      "source": [
        "from operator import ge\n",
        "input_text = \"I am feeling lonely and sad\"\n",
        "print(\"Input text: \", input_text)\n",
        "print('User emotion vector: ', get_user_emotion_vector(input_text))\n",
        "top_k_songs = recommend_songs_from_emotion(input_text, k=5) #top 5\n",
        "print(\"Model recommendations:\")\n",
        "for song in top_k_songs:\n",
        "    print(f\"{song['artist']} - {song['song']}\")\n"
      ],
      "metadata": {
        "colab": {
          "base_uri": "https://localhost:8080/"
        },
        "id": "2t2K4hNb7NMc",
        "outputId": "a7614229-72bf-4c72-bbea-6436c9c4e63c"
      },
      "execution_count": 58,
      "outputs": [
        {
          "output_type": "stream",
          "name": "stdout",
          "text": [
            "Input text:  I am feeling lonely and sad\n",
            "User emotion vector:  [7.56489931e-04 3.18489260e-03 3.20012545e-03 3.13403467e-03\n",
            " 4.70045894e-04 1.70166086e-03 2.09417699e-03 3.27906489e-03\n",
            " 1.95309343e-03 2.85906417e-02 6.83688599e-04 2.06160471e-03\n",
            " 1.26426074e-03 9.00112760e-04 2.54524501e-03 6.61055557e-04\n",
            " 1.66011296e-02 2.25029859e-03 1.00298428e-03 1.04666535e-02\n",
            " 1.00110788e-03 5.17650235e-05 1.18957229e-03 2.40984737e-04\n",
            " 2.30497563e-03 9.99352496e-01 8.17966074e-04 3.25534318e-03]\n",
            "Model recommendations:\n",
            "Eric Clapton - I Looked Away\n",
            "Marianne Faithfull - Lonesome Traveller\n",
            "Elvis Presley - Heartbreak Hotel\n",
            "Status Quo - I Fought The Law\n",
            "Bob Rivers - 12 Pains Of Christmas\n"
          ]
        }
      ]
    },
    {
      "cell_type": "code",
      "source": [
        "#baseline cos sim\n",
        "from sklearn.feature_extraction.text import TfidfVectorizer\n",
        "from sklearn.metrics.pairwise import cosine_similarity\n",
        "\n",
        "tfidf = TfidfVectorizer(stop_words='english', max_features=10000)\n",
        "tfidf_matrix = tfidf.fit_transform(df['text'])\n",
        "\n",
        "def recommend_tfidf_lyrics(input_text, k):\n",
        "    input_vec = tfidf.transform([input_text])\n",
        "    similarities = cosine_similarity(input_vec, tfidf_matrix).flatten()\n",
        "    top_indices = similarities.argsort()[::-1][:k]\n",
        "    return df.iloc[top_indices][['artist', 'song', 'link']].to_dict('records')\n"
      ],
      "metadata": {
        "id": "uEv0uEEGI02x"
      },
      "execution_count": 54,
      "outputs": []
    },
    {
      "cell_type": "code",
      "source": [
        "# baseline output\n",
        "user_input = \"I am feeling lonely and sad\"\n",
        "print(\"Input text: \", input_text)\n",
        "print('User emotion vector: ', get_user_emotion_vector(input_text))\n",
        "tfidf_results = recommend_tfidf_lyrics(user_input, k=5)\n",
        "print(\"TF-IDF recommendations:\")\n",
        "for song in tfidf_results:\n",
        "    print(f\"{song['artist']} - {song['song']}\")"
      ],
      "metadata": {
        "colab": {
          "base_uri": "https://localhost:8080/"
        },
        "id": "ERqe0cnxJXjz",
        "outputId": "171e573e-5c58-4eb9-fb5f-1822a89a456d"
      },
      "execution_count": 59,
      "outputs": [
        {
          "output_type": "stream",
          "name": "stdout",
          "text": [
            "Input text:  I am feeling lonely and sad\n",
            "User emotion vector:  [7.56489931e-04 3.18489260e-03 3.20012545e-03 3.13403467e-03\n",
            " 4.70045894e-04 1.70166086e-03 2.09417699e-03 3.27906489e-03\n",
            " 1.95309343e-03 2.85906417e-02 6.83688599e-04 2.06160471e-03\n",
            " 1.26426074e-03 9.00112760e-04 2.54524501e-03 6.61055557e-04\n",
            " 1.66011296e-02 2.25029859e-03 1.00298428e-03 1.04666535e-02\n",
            " 1.00110788e-03 5.17650235e-05 1.18957229e-03 2.40984737e-04\n",
            " 2.30497563e-03 9.99352496e-01 8.17966074e-04 3.25534318e-03]\n",
            "TF-IDF recommendations:\n",
            "Ocean Colour Scene - So Sad - The Riverboat Song B - Side\n",
            "Tom Waits - Lonely\n",
            "Roy Orbison - Only Alive\n",
            "Ne-Yo - Lonely Again\n",
            "Eddie Cochran - Lonely\n"
          ]
        }
      ]
    }
  ]
}